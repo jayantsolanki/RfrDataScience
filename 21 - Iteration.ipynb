{
 "cells": [
  {
   "cell_type": "code",
   "execution_count": 1,
   "metadata": {},
   "outputs": [
    {
     "name": "stderr",
     "output_type": "stream",
     "text": [
      "-- \u001b[1mAttaching packages\u001b[22m --------------------------------------- tidyverse 1.2.1 --\n",
      "\u001b[32mv\u001b[39m \u001b[34mggplot2\u001b[39m 3.2.1     \u001b[32mv\u001b[39m \u001b[34mpurrr  \u001b[39m 0.3.3\n",
      "\u001b[32mv\u001b[39m \u001b[34mtibble \u001b[39m 3.0.1     \u001b[32mv\u001b[39m \u001b[34mdplyr  \u001b[39m 0.8.3\n",
      "\u001b[32mv\u001b[39m \u001b[34mtidyr  \u001b[39m 1.0.0     \u001b[32mv\u001b[39m \u001b[34mstringr\u001b[39m 1.4.0\n",
      "\u001b[32mv\u001b[39m \u001b[34mreadr  \u001b[39m 1.3.1     \u001b[32mv\u001b[39m \u001b[34mforcats\u001b[39m 0.4.0\n",
      "Warning message:\n",
      "\"package 'tibble' was built under R version 3.6.3\"Warning message:\n",
      "\"package 'stringr' was built under R version 3.6.3\"-- \u001b[1mConflicts\u001b[22m ------------------------------------------ tidyverse_conflicts() --\n",
      "\u001b[31mx\u001b[39m \u001b[34mdplyr\u001b[39m::\u001b[32mfilter()\u001b[39m masks \u001b[34mstats\u001b[39m::filter()\n",
      "\u001b[31mx\u001b[39m \u001b[34mdplyr\u001b[39m::\u001b[32mlag()\u001b[39m    masks \u001b[34mstats\u001b[39m::lag()\n"
     ]
    }
   ],
   "source": [
    "library(tidyverse)"
   ]
  },
  {
   "cell_type": "code",
   "execution_count": 2,
   "metadata": {},
   "outputs": [],
   "source": [
    "df <- tibble(\n",
    "  a = rnorm(10),\n",
    "  b = rnorm(10),\n",
    "  c = rnorm(10),\n",
    "  d = rnorm(10)\n",
    ")"
   ]
  },
  {
   "cell_type": "code",
   "execution_count": 3,
   "metadata": {},
   "outputs": [
    {
     "data": {
      "text/html": [
       "<ol class=list-inline>\n",
       "\t<li>-0.650762587795471</li>\n",
       "\t<li>0.508016197906503</li>\n",
       "\t<li>-0.414642120269837</li>\n",
       "\t<li>-0.296264062949718</li>\n",
       "</ol>\n"
      ],
      "text/latex": [
       "\\begin{enumerate*}\n",
       "\\item -0.650762587795471\n",
       "\\item 0.508016197906503\n",
       "\\item -0.414642120269837\n",
       "\\item -0.296264062949718\n",
       "\\end{enumerate*}\n"
      ],
      "text/markdown": [
       "1. -0.650762587795471\n",
       "2. 0.508016197906503\n",
       "3. -0.414642120269837\n",
       "4. -0.296264062949718\n",
       "\n",
       "\n"
      ],
      "text/plain": [
       "[1] -0.6507626  0.5080162 -0.4146421 -0.2962641"
      ]
     },
     "metadata": {},
     "output_type": "display_data"
    }
   ],
   "source": [
    "output <- vector(\"double\", ncol(df))  # 1. output\n",
    "for (i in seq_along(df)) {            # 2. sequence\n",
    "  output[[i]] <- median(df[[i]])      # 3. body\n",
    "}\n",
    "output"
   ]
  },
  {
   "cell_type": "code",
   "execution_count": 4,
   "metadata": {},
   "outputs": [
    {
     "data": {
      "text/html": [
       "<ol class=list-inline>\n",
       "\t<li>1</li>\n",
       "\t<li>2</li>\n",
       "\t<li>3</li>\n",
       "\t<li>4</li>\n",
       "</ol>\n"
      ],
      "text/latex": [
       "\\begin{enumerate*}\n",
       "\\item 1\n",
       "\\item 2\n",
       "\\item 3\n",
       "\\item 4\n",
       "\\end{enumerate*}\n"
      ],
      "text/markdown": [
       "1. 1\n",
       "2. 2\n",
       "3. 3\n",
       "4. 4\n",
       "\n",
       "\n"
      ],
      "text/plain": [
       "[1] 1 2 3 4"
      ]
     },
     "metadata": {},
     "output_type": "display_data"
    }
   ],
   "source": [
    "seq_along(df)"
   ]
  },
  {
   "cell_type": "code",
   "execution_count": 5,
   "metadata": {},
   "outputs": [],
   "source": [
    "# map function\n",
    "# map() makes a list.\n",
    "# map_lgl() makes a logical vector.\n",
    "# map_int() makes an integer vector.\n",
    "# map_dbl() makes a double vector.\n",
    "# map_chr() makes a character vector\n",
    "# Each function takes a vector as input, applies a function to each piece, and then returns a new vector that’s the same length"
   ]
  },
  {
   "cell_type": "code",
   "execution_count": 6,
   "metadata": {},
   "outputs": [],
   "source": [
    "# Once you master these functions, you’ll find it takes much less time to solve iteration problems. \n",
    "# But you should never feel bad about using a for loop instead of a map function."
   ]
  },
  {
   "cell_type": "markdown",
   "metadata": {},
   "source": [
    "### Some people will tell you to avoid for loops because they are slow. They’re wrong!"
   ]
  },
  {
   "cell_type": "code",
   "execution_count": 7,
   "metadata": {},
   "outputs": [],
   "source": [
    "# The chief benefits of using functions like map() is not speed, but clarity:"
   ]
  },
  {
   "cell_type": "code",
   "execution_count": 8,
   "metadata": {},
   "outputs": [],
   "source": [
    "df <- tibble(\n",
    "  a = rnorm(10),\n",
    "  b = rnorm(10),\n",
    "  c = rnorm(10),\n",
    "  d = rnorm(10)\n",
    ")"
   ]
  },
  {
   "cell_type": "code",
   "execution_count": 9,
   "metadata": {},
   "outputs": [
    {
     "data": {
      "text/html": [
       "<dl class=dl-horizontal>\n",
       "\t<dt>a</dt>\n",
       "\t\t<dd>-0.0788471148826661</dd>\n",
       "\t<dt>b</dt>\n",
       "\t\t<dd>-0.128806110156542</dd>\n",
       "\t<dt>c</dt>\n",
       "\t\t<dd>-0.204958150832627</dd>\n",
       "\t<dt>d</dt>\n",
       "\t\t<dd>0.311025350537779</dd>\n",
       "</dl>\n"
      ],
      "text/latex": [
       "\\begin{description*}\n",
       "\\item[a] -0.0788471148826661\n",
       "\\item[b] -0.128806110156542\n",
       "\\item[c] -0.204958150832627\n",
       "\\item[d] 0.311025350537779\n",
       "\\end{description*}\n"
      ],
      "text/markdown": [
       "a\n",
       ":   -0.0788471148826661b\n",
       ":   -0.128806110156542c\n",
       ":   -0.204958150832627d\n",
       ":   0.311025350537779\n",
       "\n"
      ],
      "text/plain": [
       "          a           b           c           d \n",
       "-0.07884711 -0.12880611 -0.20495815  0.31102535 "
      ]
     },
     "metadata": {},
     "output_type": "display_data"
    }
   ],
   "source": [
    "# examples\n",
    "map_dbl(df, mean)"
   ]
  },
  {
   "cell_type": "code",
   "execution_count": 13,
   "metadata": {},
   "outputs": [
    {
     "data": {
      "text/html": [
       "<dl class=dl-horizontal>\n",
       "\t<dt>a</dt>\n",
       "\t\t<dd>-0.231875106618877</dd>\n",
       "\t<dt>b</dt>\n",
       "\t\t<dd>-0.316530314742375</dd>\n",
       "\t<dt>c</dt>\n",
       "\t\t<dd>-0.481399551394047</dd>\n",
       "\t<dt>d</dt>\n",
       "\t\t<dd>0.174199963362617</dd>\n",
       "</dl>\n"
      ],
      "text/latex": [
       "\\begin{description*}\n",
       "\\item[a] -0.231875106618877\n",
       "\\item[b] -0.316530314742375\n",
       "\\item[c] -0.481399551394047\n",
       "\\item[d] 0.174199963362617\n",
       "\\end{description*}\n"
      ],
      "text/markdown": [
       "a\n",
       ":   -0.231875106618877b\n",
       ":   -0.316530314742375c\n",
       ":   -0.481399551394047d\n",
       ":   0.174199963362617\n",
       "\n"
      ],
      "text/plain": [
       "         a          b          c          d \n",
       "-0.2318751 -0.3165303 -0.4813996  0.1742000 "
      ]
     },
     "metadata": {},
     "output_type": "display_data"
    },
    {
     "data": {
      "text/html": [
       "<dl class=dl-horizontal>\n",
       "\t<dt>x</dt>\n",
       "\t\t<dd>3</dd>\n",
       "\t<dt>y</dt>\n",
       "\t\t<dd>2</dd>\n",
       "</dl>\n"
      ],
      "text/latex": [
       "\\begin{description*}\n",
       "\\item[x] 3\n",
       "\\item[y] 2\n",
       "\\end{description*}\n"
      ],
      "text/markdown": [
       "x\n",
       ":   3y\n",
       ":   2\n",
       "\n"
      ],
      "text/plain": [
       "x y \n",
       "3 2 "
      ]
     },
     "metadata": {},
     "output_type": "display_data"
    }
   ],
   "source": [
    "# map_*() uses … ([dot dot dot]) to pass along additional arguments\n",
    "map_dbl(df, mean, trim = 0.5)\n",
    "# The map functions also preserve names:\n",
    "z <- list(x = 1:3, y = 4:5)\n",
    "map_int(z, length)"
   ]
  },
  {
   "cell_type": "code",
   "execution_count": 14,
   "metadata": {},
   "outputs": [],
   "source": [
    "models <- mtcars %>% \n",
    "  split(.$cyl) %>% \n",
    "  map(function(df) lm(mpg ~ wt, data = df))"
   ]
  },
  {
   "cell_type": "code",
   "execution_count": 21,
   "metadata": {},
   "outputs": [],
   "source": [
    "#using anonymous function\n",
    "models <- mtcars %>% \n",
    "  split(.$cyl) %>% \n",
    "  map(~lm(mpg ~ wt, data = .))"
   ]
  },
  {
   "cell_type": "code",
   "execution_count": 23,
   "metadata": {},
   "outputs": [
    {
     "data": {
      "text/html": [
       "<dl class=dl-horizontal>\n",
       "\t<dt>4</dt>\n",
       "\t\t<dd>0.508632596323139</dd>\n",
       "\t<dt>6</dt>\n",
       "\t\t<dd>0.464510150550548</dd>\n",
       "\t<dt>8</dt>\n",
       "\t\t<dd>0.422965536496112</dd>\n",
       "</dl>\n"
      ],
      "text/latex": [
       "\\begin{description*}\n",
       "\\item[4] 0.508632596323139\n",
       "\\item[6] 0.464510150550548\n",
       "\\item[8] 0.422965536496112\n",
       "\\end{description*}\n"
      ],
      "text/markdown": [
       "4\n",
       ":   0.5086325963231396\n",
       ":   0.4645101505505488\n",
       ":   0.422965536496112\n",
       "\n"
      ],
      "text/plain": [
       "        4         6         8 \n",
       "0.5086326 0.4645102 0.4229655 "
      ]
     },
     "metadata": {},
     "output_type": "display_data"
    }
   ],
   "source": [
    "models %>% \n",
    "  map(summary) %>% \n",
    "  map_dbl(~.$r.squared)"
   ]
  },
  {
   "cell_type": "code",
   "execution_count": 24,
   "metadata": {},
   "outputs": [],
   "source": [
    "# relation to Base R\n",
    "# lapply() is basically identical to map()\n",
    "# base sapply() is a wrapper around lapply() that automatically simplifies the output"
   ]
  },
  {
   "cell_type": "code",
   "execution_count": 25,
   "metadata": {},
   "outputs": [],
   "source": [
    "# we could use map2() which iterates over two vectors in parallel:"
   ]
  },
  {
   "cell_type": "code",
   "execution_count": 28,
   "metadata": {},
   "outputs": [
    {
     "name": "stdout",
     "output_type": "stream",
     "text": [
      "List of 3\n",
      " $ : num [1:5] 5.86 5.89 4.79 4.75 3\n",
      " $ : num [1:5] 16.04 9.01 12.47 8.81 6.43\n",
      " $ : num [1:5] 3.72 -8.12 -10.18 -7.98 -14.09\n"
     ]
    }
   ],
   "source": [
    "sigma <- list(1, 5, 10)\n",
    "mu <- list(5, 10, -3)\n",
    "map2(mu, sigma, rnorm, n = 5) %>% str()\n",
    "# Note that the arguments that vary for each call come before the function; \n",
    "# arguments that are the same for every call come after"
   ]
  },
  {
   "cell_type": "code",
   "execution_count": null,
   "metadata": {},
   "outputs": [],
   "source": []
  }
 ],
 "metadata": {
  "kernelspec": {
   "display_name": "R",
   "language": "R",
   "name": "ir"
  },
  "language_info": {
   "codemirror_mode": "r",
   "file_extension": ".r",
   "mimetype": "text/x-r-source",
   "name": "R",
   "pygments_lexer": "r",
   "version": "3.6.1"
  }
 },
 "nbformat": 4,
 "nbformat_minor": 2
}

{
 "cells": [
  {
   "cell_type": "code",
   "execution_count": 3,
   "metadata": {},
   "outputs": [],
   "source": [
    "library(tidyverse)\n",
    "\n",
    "library(lubridate)\n"
   ]
  },
  {
   "cell_type": "code",
   "execution_count": 2,
   "metadata": {},
   "outputs": [
    {
     "data": {
      "text/html": [
       "<time datetime=\"2017-01-31\">2017-01-31</time>"
      ],
      "text/latex": [
       "2017-01-31"
      ],
      "text/markdown": [
       "2017-01-31"
      ],
      "text/plain": [
       "[1] \"2017-01-31\""
      ]
     },
     "metadata": {},
     "output_type": "display_data"
    },
    {
     "data": {
      "text/html": [
       "<time datetime=\"2017-01-31\">2017-01-31</time>"
      ],
      "text/latex": [
       "2017-01-31"
      ],
      "text/markdown": [
       "2017-01-31"
      ],
      "text/plain": [
       "[1] \"2017-01-31\""
      ]
     },
     "metadata": {},
     "output_type": "display_data"
    },
    {
     "data": {
      "text/html": [
       "<time datetime=\"2017-01-31\">2017-01-31</time>"
      ],
      "text/latex": [
       "2017-01-31"
      ],
      "text/markdown": [
       "2017-01-31"
      ],
      "text/plain": [
       "[1] \"2017-01-31\""
      ]
     },
     "metadata": {},
     "output_type": "display_data"
    }
   ],
   "source": [
    "ymd(\"2017-01-31\")\n",
    "#> [1] \"2017-01-31\"\n",
    "mdy(\"January 31st, 2017\")\n",
    "#> [1] \"2017-01-31\"\n",
    "dmy(\"31-Jan-2017\")\n",
    "#> [1] \"2017-01-31\""
   ]
  },
  {
   "cell_type": "code",
   "execution_count": 4,
   "metadata": {},
   "outputs": [
    {
     "data": {
      "text/plain": [
       "[1] \"1970-01-01 10:00:00 UTC\""
      ]
     },
     "metadata": {},
     "output_type": "display_data"
    },
    {
     "data": {
      "text/html": [
       "<time datetime=\"1980-01-01\">1980-01-01</time>"
      ],
      "text/latex": [
       "1980-01-01"
      ],
      "text/markdown": [
       "1980-01-01"
      ],
      "text/plain": [
       "[1] \"1980-01-01\""
      ]
     },
     "metadata": {},
     "output_type": "display_data"
    }
   ],
   "source": [
    "as_datetime(60 * 60 * 10)\n",
    "#> [1] \"1970-01-01 10:00:00 UTC\"\n",
    "as_date(365 * 10 + 2)\n",
    "#> [1] \"1980-01-01\""
   ]
  },
  {
   "cell_type": "code",
   "execution_count": 5,
   "metadata": {},
   "outputs": [],
   "source": [
    "datetime <- ymd_hms(\"2016-07-08 12:34:56\")"
   ]
  },
  {
   "cell_type": "code",
   "execution_count": 6,
   "metadata": {},
   "outputs": [
    {
     "data": {
      "text/html": [
       "2016"
      ],
      "text/latex": [
       "2016"
      ],
      "text/markdown": [
       "2016"
      ],
      "text/plain": [
       "[1] 2016"
      ]
     },
     "metadata": {},
     "output_type": "display_data"
    },
    {
     "data": {
      "text/html": [
       "7"
      ],
      "text/latex": [
       "7"
      ],
      "text/markdown": [
       "7"
      ],
      "text/plain": [
       "[1] 7"
      ]
     },
     "metadata": {},
     "output_type": "display_data"
    },
    {
     "data": {
      "text/html": [
       "8"
      ],
      "text/latex": [
       "8"
      ],
      "text/markdown": [
       "8"
      ],
      "text/plain": [
       "[1] 8"
      ]
     },
     "metadata": {},
     "output_type": "display_data"
    },
    {
     "data": {
      "text/html": [
       "190"
      ],
      "text/latex": [
       "190"
      ],
      "text/markdown": [
       "190"
      ],
      "text/plain": [
       "[1] 190"
      ]
     },
     "metadata": {},
     "output_type": "display_data"
    },
    {
     "data": {
      "text/html": [
       "6"
      ],
      "text/latex": [
       "6"
      ],
      "text/markdown": [
       "6"
      ],
      "text/plain": [
       "[1] 6"
      ]
     },
     "metadata": {},
     "output_type": "display_data"
    }
   ],
   "source": [
    "year(datetime)\n",
    "#> [1] 2016\n",
    "month(datetime)\n",
    "#> [1] 7\n",
    "mday(datetime)\n",
    "#> [1] 8\n",
    "\n",
    "yday(datetime)\n",
    "#> [1] 190\n",
    "wday(datetime)\n",
    "#> [1] 6"
   ]
  },
  {
   "cell_type": "code",
   "execution_count": 7,
   "metadata": {},
   "outputs": [],
   "source": [
    "#timespans\n"
   ]
  },
  {
   "cell_type": "code",
   "execution_count": 13,
   "metadata": {},
   "outputs": [
    {
     "data": {
      "text/plain": [
       "Time difference of 15145 days"
      ]
     },
     "metadata": {},
     "output_type": "display_data"
    },
    {
     "data": {
      "text/html": [
       "1308528000s (~41.46 years)"
      ],
      "text/latex": [
       "1308528000s (\\textasciitilde{}41.46 years)"
      ],
      "text/markdown": [
       "1308528000s (~41.46 years)"
      ],
      "text/plain": [
       "[1] \"1308528000s (~41.46 years)\""
      ]
     },
     "metadata": {},
     "output_type": "display_data"
    }
   ],
   "source": [
    "h_age <- today() - ymd(19791014)\n",
    "h_age\n",
    "as.duration(h_age)"
   ]
  },
  {
   "cell_type": "code",
   "execution_count": null,
   "metadata": {},
   "outputs": [],
   "source": []
  }
 ],
 "metadata": {
  "kernelspec": {
   "display_name": "R",
   "language": "R",
   "name": "ir"
  },
  "language_info": {
   "codemirror_mode": "r",
   "file_extension": ".r",
   "mimetype": "text/x-r-source",
   "name": "R",
   "pygments_lexer": "r",
   "version": "3.6.1"
  }
 },
 "nbformat": 4,
 "nbformat_minor": 2
}

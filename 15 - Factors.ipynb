{
 "cells": [
  {
   "cell_type": "code",
   "execution_count": 1,
   "metadata": {},
   "outputs": [
    {
     "name": "stderr",
     "output_type": "stream",
     "text": [
      "-- \u001b[1mAttaching packages\u001b[22m --------------------------------------- tidyverse 1.2.1 --\n",
      "\u001b[32mv\u001b[39m \u001b[34mggplot2\u001b[39m 3.2.1     \u001b[32mv\u001b[39m \u001b[34mpurrr  \u001b[39m 0.3.3\n",
      "\u001b[32mv\u001b[39m \u001b[34mtibble \u001b[39m 3.0.1     \u001b[32mv\u001b[39m \u001b[34mdplyr  \u001b[39m 0.8.3\n",
      "\u001b[32mv\u001b[39m \u001b[34mtidyr  \u001b[39m 1.0.0     \u001b[32mv\u001b[39m \u001b[34mstringr\u001b[39m 1.4.0\n",
      "\u001b[32mv\u001b[39m \u001b[34mreadr  \u001b[39m 1.3.1     \u001b[32mv\u001b[39m \u001b[34mforcats\u001b[39m 0.4.0\n",
      "Warning message:\n",
      "\"package 'tibble' was built under R version 3.6.3\"Warning message:\n",
      "\"package 'stringr' was built under R version 3.6.3\"-- \u001b[1mConflicts\u001b[22m ------------------------------------------ tidyverse_conflicts() --\n",
      "\u001b[31mx\u001b[39m \u001b[34mdplyr\u001b[39m::\u001b[32mfilter()\u001b[39m masks \u001b[34mstats\u001b[39m::filter()\n",
      "\u001b[31mx\u001b[39m \u001b[34mdplyr\u001b[39m::\u001b[32mlag()\u001b[39m    masks \u001b[34mstats\u001b[39m::lag()\n"
     ]
    }
   ],
   "source": [
    "library(tidyverse)"
   ]
  },
  {
   "cell_type": "code",
   "execution_count": 8,
   "metadata": {},
   "outputs": [],
   "source": [
    "x1 <- c(\"Dec\", \"Apr\", \"Jan\", \"Mar\")\n",
    "x2 <- c(\"Dec\", \"Apr\", \"Jam\", \"Mar\")"
   ]
  },
  {
   "cell_type": "code",
   "execution_count": 9,
   "metadata": {},
   "outputs": [
    {
     "data": {
      "text/html": [
       "<ol class=list-inline>\n",
       "\t<li>'Apr'</li>\n",
       "\t<li>'Dec'</li>\n",
       "\t<li>'Jam'</li>\n",
       "\t<li>'Mar'</li>\n",
       "</ol>\n"
      ],
      "text/latex": [
       "\\begin{enumerate*}\n",
       "\\item 'Apr'\n",
       "\\item 'Dec'\n",
       "\\item 'Jam'\n",
       "\\item 'Mar'\n",
       "\\end{enumerate*}\n"
      ],
      "text/markdown": [
       "1. 'Apr'\n",
       "2. 'Dec'\n",
       "3. 'Jam'\n",
       "4. 'Mar'\n",
       "\n",
       "\n"
      ],
      "text/plain": [
       "[1] \"Apr\" \"Dec\" \"Jam\" \"Mar\""
      ]
     },
     "metadata": {},
     "output_type": "display_data"
    }
   ],
   "source": [
    "sort(x2)"
   ]
  },
  {
   "cell_type": "code",
   "execution_count": 10,
   "metadata": {},
   "outputs": [],
   "source": [
    "month_levels <- c(\n",
    "  \"Jan\", \"Feb\", \"Mar\", \"Apr\", \"May\", \"Jun\", \n",
    "  \"Jul\", \"Aug\", \"Sep\", \"Oct\", \"Nov\", \"Dec\"\n",
    ")"
   ]
  },
  {
   "cell_type": "code",
   "execution_count": 12,
   "metadata": {},
   "outputs": [],
   "source": [
    "y1 <- factor(x1, levels = month_levels)\n",
    "y2 <- factor(x2, levels = month_levels)"
   ]
  },
  {
   "cell_type": "code",
   "execution_count": 16,
   "metadata": {},
   "outputs": [
    {
     "data": {
      "text/html": [
       "<ol class=list-inline>\n",
       "\t<li>Dec</li>\n",
       "\t<li>Apr</li>\n",
       "\t<li>Jan</li>\n",
       "\t<li>Mar</li>\n",
       "</ol>\n",
       "\n",
       "<details>\n",
       "\t<summary style=display:list-item;cursor:pointer>\n",
       "\t\t<strong>Levels</strong>:\n",
       "\t</summary>\n",
       "\t<ol class=list-inline>\n",
       "\t\t<li>'Jan'</li>\n",
       "\t\t<li>'Feb'</li>\n",
       "\t\t<li>'Mar'</li>\n",
       "\t\t<li>'Apr'</li>\n",
       "\t\t<li>'May'</li>\n",
       "\t\t<li>'Jun'</li>\n",
       "\t\t<li>'Jul'</li>\n",
       "\t\t<li>'Aug'</li>\n",
       "\t\t<li>'Sep'</li>\n",
       "\t\t<li>'Oct'</li>\n",
       "\t\t<li>'Nov'</li>\n",
       "\t\t<li>'Dec'</li>\n",
       "\t</ol>\n",
       "</details>"
      ],
      "text/latex": [
       "\\begin{enumerate*}\n",
       "\\item Dec\n",
       "\\item Apr\n",
       "\\item Jan\n",
       "\\item Mar\n",
       "\\end{enumerate*}\n",
       "\n",
       "\\emph{Levels}: \\begin{enumerate*}\n",
       "\\item 'Jan'\n",
       "\\item 'Feb'\n",
       "\\item 'Mar'\n",
       "\\item 'Apr'\n",
       "\\item 'May'\n",
       "\\item 'Jun'\n",
       "\\item 'Jul'\n",
       "\\item 'Aug'\n",
       "\\item 'Sep'\n",
       "\\item 'Oct'\n",
       "\\item 'Nov'\n",
       "\\item 'Dec'\n",
       "\\end{enumerate*}\n"
      ],
      "text/markdown": [
       "1. Dec\n",
       "2. Apr\n",
       "3. Jan\n",
       "4. Mar\n",
       "\n",
       "\n",
       "\n",
       "**Levels**: 1. 'Jan'\n",
       "2. 'Feb'\n",
       "3. 'Mar'\n",
       "4. 'Apr'\n",
       "5. 'May'\n",
       "6. 'Jun'\n",
       "7. 'Jul'\n",
       "8. 'Aug'\n",
       "9. 'Sep'\n",
       "10. 'Oct'\n",
       "11. 'Nov'\n",
       "12. 'Dec'\n",
       "\n",
       "\n"
      ],
      "text/plain": [
       "[1] Dec Apr Jan Mar\n",
       "Levels: Jan Feb Mar Apr May Jun Jul Aug Sep Oct Nov Dec"
      ]
     },
     "metadata": {},
     "output_type": "display_data"
    },
    {
     "data": {
      "text/html": [
       "<ol class=list-inline>\n",
       "\t<li>Dec</li>\n",
       "\t<li>Apr</li>\n",
       "\t<li>&lt;NA&gt;</li>\n",
       "\t<li>Mar</li>\n",
       "</ol>\n",
       "\n",
       "<details>\n",
       "\t<summary style=display:list-item;cursor:pointer>\n",
       "\t\t<strong>Levels</strong>:\n",
       "\t</summary>\n",
       "\t<ol class=list-inline>\n",
       "\t\t<li>'Jan'</li>\n",
       "\t\t<li>'Feb'</li>\n",
       "\t\t<li>'Mar'</li>\n",
       "\t\t<li>'Apr'</li>\n",
       "\t\t<li>'May'</li>\n",
       "\t\t<li>'Jun'</li>\n",
       "\t\t<li>'Jul'</li>\n",
       "\t\t<li>'Aug'</li>\n",
       "\t\t<li>'Sep'</li>\n",
       "\t\t<li>'Oct'</li>\n",
       "\t\t<li>'Nov'</li>\n",
       "\t\t<li>'Dec'</li>\n",
       "\t</ol>\n",
       "</details>"
      ],
      "text/latex": [
       "\\begin{enumerate*}\n",
       "\\item Dec\n",
       "\\item Apr\n",
       "\\item <NA>\n",
       "\\item Mar\n",
       "\\end{enumerate*}\n",
       "\n",
       "\\emph{Levels}: \\begin{enumerate*}\n",
       "\\item 'Jan'\n",
       "\\item 'Feb'\n",
       "\\item 'Mar'\n",
       "\\item 'Apr'\n",
       "\\item 'May'\n",
       "\\item 'Jun'\n",
       "\\item 'Jul'\n",
       "\\item 'Aug'\n",
       "\\item 'Sep'\n",
       "\\item 'Oct'\n",
       "\\item 'Nov'\n",
       "\\item 'Dec'\n",
       "\\end{enumerate*}\n"
      ],
      "text/markdown": [
       "1. Dec\n",
       "2. Apr\n",
       "3. &lt;NA&gt;\n",
       "4. Mar\n",
       "\n",
       "\n",
       "\n",
       "**Levels**: 1. 'Jan'\n",
       "2. 'Feb'\n",
       "3. 'Mar'\n",
       "4. 'Apr'\n",
       "5. 'May'\n",
       "6. 'Jun'\n",
       "7. 'Jul'\n",
       "8. 'Aug'\n",
       "9. 'Sep'\n",
       "10. 'Oct'\n",
       "11. 'Nov'\n",
       "12. 'Dec'\n",
       "\n",
       "\n"
      ],
      "text/plain": [
       "[1] Dec  Apr  <NA> Mar \n",
       "Levels: Jan Feb Mar Apr May Jun Jul Aug Sep Oct Nov Dec"
      ]
     },
     "metadata": {},
     "output_type": "display_data"
    },
    {
     "data": {
      "text/html": [
       "<ol class=list-inline>\n",
       "\t<li>Jan</li>\n",
       "\t<li>Mar</li>\n",
       "\t<li>Apr</li>\n",
       "\t<li>Dec</li>\n",
       "</ol>\n",
       "\n",
       "<details>\n",
       "\t<summary style=display:list-item;cursor:pointer>\n",
       "\t\t<strong>Levels</strong>:\n",
       "\t</summary>\n",
       "\t<ol class=list-inline>\n",
       "\t\t<li>'Jan'</li>\n",
       "\t\t<li>'Feb'</li>\n",
       "\t\t<li>'Mar'</li>\n",
       "\t\t<li>'Apr'</li>\n",
       "\t\t<li>'May'</li>\n",
       "\t\t<li>'Jun'</li>\n",
       "\t\t<li>'Jul'</li>\n",
       "\t\t<li>'Aug'</li>\n",
       "\t\t<li>'Sep'</li>\n",
       "\t\t<li>'Oct'</li>\n",
       "\t\t<li>'Nov'</li>\n",
       "\t\t<li>'Dec'</li>\n",
       "\t</ol>\n",
       "</details>"
      ],
      "text/latex": [
       "\\begin{enumerate*}\n",
       "\\item Jan\n",
       "\\item Mar\n",
       "\\item Apr\n",
       "\\item Dec\n",
       "\\end{enumerate*}\n",
       "\n",
       "\\emph{Levels}: \\begin{enumerate*}\n",
       "\\item 'Jan'\n",
       "\\item 'Feb'\n",
       "\\item 'Mar'\n",
       "\\item 'Apr'\n",
       "\\item 'May'\n",
       "\\item 'Jun'\n",
       "\\item 'Jul'\n",
       "\\item 'Aug'\n",
       "\\item 'Sep'\n",
       "\\item 'Oct'\n",
       "\\item 'Nov'\n",
       "\\item 'Dec'\n",
       "\\end{enumerate*}\n"
      ],
      "text/markdown": [
       "1. Jan\n",
       "2. Mar\n",
       "3. Apr\n",
       "4. Dec\n",
       "\n",
       "\n",
       "\n",
       "**Levels**: 1. 'Jan'\n",
       "2. 'Feb'\n",
       "3. 'Mar'\n",
       "4. 'Apr'\n",
       "5. 'May'\n",
       "6. 'Jun'\n",
       "7. 'Jul'\n",
       "8. 'Aug'\n",
       "9. 'Sep'\n",
       "10. 'Oct'\n",
       "11. 'Nov'\n",
       "12. 'Dec'\n",
       "\n",
       "\n"
      ],
      "text/plain": [
       "[1] Jan Mar Apr Dec\n",
       "Levels: Jan Feb Mar Apr May Jun Jul Aug Sep Oct Nov Dec"
      ]
     },
     "metadata": {},
     "output_type": "display_data"
    }
   ],
   "source": [
    "y1\n",
    "y2\n",
    "sort(y1)"
   ]
  },
  {
   "cell_type": "code",
   "execution_count": 19,
   "metadata": {},
   "outputs": [
    {
     "name": "stdout",
     "output_type": "stream",
     "text": [
      "tibble [21,483 x 9] (S3: tbl_df/tbl/data.frame)\n",
      " $ year   : int [1:21483] 2000 2000 2000 2000 2000 2000 2000 2000 2000 2000 ...\n",
      " $ marital: Factor w/ 6 levels \"No answer\",\"Never married\",..: 2 4 5 2 4 6 2 4 6 6 ...\n",
      " $ age    : int [1:21483] 26 48 67 39 25 25 36 44 44 47 ...\n",
      " $ race   : Factor w/ 4 levels \"Other\",\"Black\",..: 3 3 3 3 3 3 3 3 3 3 ...\n",
      " $ rincome: Factor w/ 16 levels \"No answer\",\"Don't know\",..: 8 8 16 16 16 5 4 9 4 4 ...\n",
      " $ partyid: Factor w/ 10 levels \"No answer\",\"Don't know\",..: 6 5 7 6 9 10 5 8 9 4 ...\n",
      " $ relig  : Factor w/ 16 levels \"No answer\",\"Don't know\",..: 15 15 15 6 12 15 5 15 15 15 ...\n",
      " $ denom  : Factor w/ 30 levels \"No answer\",\"Don't know\",..: 25 23 3 30 30 25 30 15 4 25 ...\n",
      " $ tvhours: int [1:21483] 12 NA 2 4 1 NA 3 NA 0 3 ...\n"
     ]
    }
   ],
   "source": [
    "# general social survey\n",
    "gss_cat  %>% str()"
   ]
  },
  {
   "cell_type": "code",
   "execution_count": 27,
   "metadata": {},
   "outputs": [
    {
     "data": {
      "text/html": [
       "<table>\n",
       "<caption>A tibble: 3 × 2</caption>\n",
       "<thead>\n",
       "\t<tr><th scope=col>race</th><th scope=col>n</th></tr>\n",
       "\t<tr><th scope=col>&lt;fct&gt;</th><th scope=col>&lt;int&gt;</th></tr>\n",
       "</thead>\n",
       "<tbody>\n",
       "\t<tr><td>Other</td><td> 1959</td></tr>\n",
       "\t<tr><td>Black</td><td> 3129</td></tr>\n",
       "\t<tr><td>White</td><td>16395</td></tr>\n",
       "</tbody>\n",
       "</table>\n"
      ],
      "text/latex": [
       "A tibble: 3 × 2\n",
       "\\begin{tabular}{r|ll}\n",
       " race & n\\\\\n",
       " <fct> & <int>\\\\\n",
       "\\hline\n",
       "\t Other &  1959\\\\\n",
       "\t Black &  3129\\\\\n",
       "\t White & 16395\\\\\n",
       "\\end{tabular}\n"
      ],
      "text/markdown": [
       "\n",
       "A tibble: 3 × 2\n",
       "\n",
       "| race &lt;fct&gt; | n &lt;int&gt; |\n",
       "|---|---|\n",
       "| Other |  1959 |\n",
       "| Black |  3129 |\n",
       "| White | 16395 |\n",
       "\n"
      ],
      "text/plain": [
       "  race  n    \n",
       "1 Other  1959\n",
       "2 Black  3129\n",
       "3 White 16395"
      ]
     },
     "metadata": {},
     "output_type": "display_data"
    },
    {
     "data": {
      "text/html": [
       "<ol class=list-inline>\n",
       "\t<li>'Other'</li>\n",
       "\t<li>'Black'</li>\n",
       "\t<li>'White'</li>\n",
       "\t<li>'Not applicable'</li>\n",
       "</ol>\n"
      ],
      "text/latex": [
       "\\begin{enumerate*}\n",
       "\\item 'Other'\n",
       "\\item 'Black'\n",
       "\\item 'White'\n",
       "\\item 'Not applicable'\n",
       "\\end{enumerate*}\n"
      ],
      "text/markdown": [
       "1. 'Other'\n",
       "2. 'Black'\n",
       "3. 'White'\n",
       "4. 'Not applicable'\n",
       "\n",
       "\n"
      ],
      "text/plain": [
       "[1] \"Other\"          \"Black\"          \"White\"          \"Not applicable\""
      ]
     },
     "metadata": {},
     "output_type": "display_data"
    }
   ],
   "source": [
    "#checking levels\n",
    "gss_cat %>%\n",
    "  count(race)\n",
    "levels(gss_cat$race)"
   ]
  },
  {
   "cell_type": "code",
   "execution_count": 28,
   "metadata": {},
   "outputs": [
    {
     "data": {
      "image/png": "[encoded data removed]",
      "text/plain": [
       "plot without title"
      ]
     },
     "metadata": {},
     "output_type": "display_data"
    }
   ],
   "source": [
    "ggplot(gss_cat, aes(race)) +\n",
    "  geom_bar() +\n",
    "  scale_x_discrete(drop = FALSE)"
   ]
  },
  {
   "cell_type": "code",
   "execution_count": 39,
   "metadata": {},
   "outputs": [
    {
     "ename": "ERROR",
     "evalue": "Error: `f` must be a factor (or character vector or numeric vector).\n",
     "output_type": "error",
     "traceback": [
      "Error: `f` must be a factor (or character vector or numeric vector).\nTraceback:\n",
      "1. gss_cat %>% fct_infreq(count(race))",
      "2. withVisible(eval(quote(`_fseq`(`_lhs`)), env, env))",
      "3. eval(quote(`_fseq`(`_lhs`)), env, env)",
      "4. eval(quote(`_fseq`(`_lhs`)), env, env)",
      "5. `_fseq`(`_lhs`)",
      "6. freduce(value, `_function_list`)",
      "7. withVisible(function_list[[k]](value))",
      "8. function_list[[k]](value)",
      "9. fct_infreq(., count(race))",
      "10. check_factor(f)",
      "11. stop(\"`f` must be a factor (or character vector or numeric vector).\", \n  .     call. = FALSE)"
     ]
    }
   ],
   "source": []
  },
  {
   "cell_type": "code",
   "execution_count": null,
   "metadata": {},
   "outputs": [],
   "source": []
  }
 ],
 "metadata": {
  "kernelspec": {
   "display_name": "R",
   "language": "R",
   "name": "ir"
  },
  "language_info": {
   "codemirror_mode": "r",
   "file_extension": ".r",
   "mimetype": "text/x-r-source",
   "name": "R",
   "pygments_lexer": "r",
   "version": "3.6.1"
  }
 },
 "nbformat": 4,
 "nbformat_minor": 2
}
